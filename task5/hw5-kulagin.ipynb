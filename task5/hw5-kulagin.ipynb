{
 "cells": [
  {
   "cell_type": "markdown",
   "metadata": {},
   "source": [
    "<center><img src=\"images/header.png\"></center>\n",
    "\n",
    "<h1><center>Алгоритмы интеллектуальной обработки больших объемов данных</center></h1>\n",
    "<hr>\n",
    "<h2><center>SVM, Kernel Trick (практика)</center></h2>"
   ]
  },
  {
   "cell_type": "markdown",
   "metadata": {},
   "source": [
    "**Срок сдачи:** 23 декабря 2017, 06:00 <br> \n",
    "**Штраф за опоздание:** -2 балла после 06:00 23 декабря, -4 балла после 06:00 30 декабря, -6 баллов после 06:00 6 января\n",
    "\n",
    "При отправлении ДЗ указывайте фамилию в названии файла<br>\n",
    "\n",
    "Не забудте создать задание в Slack через /todo.\n",
    "\n",
    "Используйте данный Ipython Notebook при оформлении домашнего задания."
   ]
  },
  {
   "cell_type": "code",
   "execution_count": 74,
   "metadata": {},
   "outputs": [],
   "source": [
    "import os\n",
    "import numpy as np\n",
    "import pandas as pd\n",
    "import matplotlib.pyplot as plt\n",
    "from tqdm import tqdm_notebook\n",
    "from sklearn.svm import SVR\n",
    "from sklearn.svm import SVC\n",
    "from sklearn.model_selection import cross_val_score\n",
    "\n",
    "%matplotlib inline\n",
    "\n",
    "plt.style.use('ggplot')\n",
    "\n",
    "plt.rcParams['figure.figsize'] = (12, 7)"
   ]
  },
  {
   "cell_type": "markdown",
   "metadata": {},
   "source": [
    "Функция `select_model` принимает на вход обучающую выборку и возвращает модель (машину опорных векторов) с наилучшими параметрами для данной выборки. Эту функцию нужно реализовать.\n",
    "\n",
    "Подбираемые параметры подели включают в себя:\n",
    "- различные функции ядра (линейное, RBF, полиномиальные разных степеней)\n",
    "- различные значения константы $C$ ($0, 0.1, 1, 10, 100, 1000, 10000$)\n",
    "\n",
    "Подбирать параметры необходимо с помощью 10-fold кросс-валидации. Сейчас в качестве заглушки функция всегда возвращает линейный SVC."
   ]
  },
  {
   "cell_type": "markdown",
   "metadata": {},
   "source": [
    "# Регрессия с SVM (3 балла)"
   ]
  },
  {
   "cell_type": "markdown",
   "metadata": {},
   "source": [
    "Загрузите набор данных из *titanium.csv*<br/>\n",
    "Мы будем решать задачу восстановления столбца 'y' по столбцу 'x'."
   ]
  },
  {
   "cell_type": "markdown",
   "metadata": {},
   "source": [
    "## Визуализация данных (1 балл)"
   ]
  },
  {
   "cell_type": "markdown",
   "metadata": {},
   "source": [
    "Выполните стандартную предобработку данных (z-score) и выведите их на графике."
   ]
  },
  {
   "cell_type": "code",
   "execution_count": 75,
   "metadata": {},
   "outputs": [
    {
     "data": {
      "text/html": [
       "<div>\n",
       "<style scoped>\n",
       "    .dataframe tbody tr th:only-of-type {\n",
       "        vertical-align: middle;\n",
       "    }\n",
       "\n",
       "    .dataframe tbody tr th {\n",
       "        vertical-align: top;\n",
       "    }\n",
       "\n",
       "    .dataframe thead th {\n",
       "        text-align: right;\n",
       "    }\n",
       "</style>\n",
       "<table border=\"1\" class=\"dataframe\">\n",
       "  <thead>\n",
       "    <tr style=\"text-align: right;\">\n",
       "      <th></th>\n",
       "      <th>x</th>\n",
       "      <th>y</th>\n",
       "    </tr>\n",
       "  </thead>\n",
       "  <tbody>\n",
       "    <tr>\n",
       "      <th>0</th>\n",
       "      <td>585.0</td>\n",
       "      <td>0.644</td>\n",
       "    </tr>\n",
       "    <tr>\n",
       "      <th>1</th>\n",
       "      <td>595.0</td>\n",
       "      <td>0.622</td>\n",
       "    </tr>\n",
       "    <tr>\n",
       "      <th>2</th>\n",
       "      <td>605.0</td>\n",
       "      <td>0.638</td>\n",
       "    </tr>\n",
       "    <tr>\n",
       "      <th>3</th>\n",
       "      <td>615.0</td>\n",
       "      <td>0.649</td>\n",
       "    </tr>\n",
       "    <tr>\n",
       "      <th>4</th>\n",
       "      <td>625.0</td>\n",
       "      <td>0.652</td>\n",
       "    </tr>\n",
       "  </tbody>\n",
       "</table>\n",
       "</div>"
      ],
      "text/plain": [
       "       x      y\n",
       "0  585.0  0.644\n",
       "1  595.0  0.622\n",
       "2  605.0  0.638\n",
       "3  615.0  0.649\n",
       "4  625.0  0.652"
      ]
     },
     "execution_count": 75,
     "metadata": {},
     "output_type": "execute_result"
    }
   ],
   "source": [
    "# Your Code Here\n",
    "df_data = pd.read_csv('titanium.csv')\n",
    "df_data.head()"
   ]
  },
  {
   "cell_type": "code",
   "execution_count": 76,
   "metadata": {},
   "outputs": [
    {
     "data": {
      "text/html": [
       "<div>\n",
       "<style scoped>\n",
       "    .dataframe tbody tr th:only-of-type {\n",
       "        vertical-align: middle;\n",
       "    }\n",
       "\n",
       "    .dataframe tbody tr th {\n",
       "        vertical-align: top;\n",
       "    }\n",
       "\n",
       "    .dataframe thead th {\n",
       "        text-align: right;\n",
       "    }\n",
       "</style>\n",
       "<table border=\"1\" class=\"dataframe\">\n",
       "  <thead>\n",
       "    <tr style=\"text-align: right;\">\n",
       "      <th></th>\n",
       "      <th>x</th>\n",
       "      <th>y</th>\n",
       "    </tr>\n",
       "  </thead>\n",
       "  <tbody>\n",
       "    <tr>\n",
       "      <th>0</th>\n",
       "      <td>-1.679650</td>\n",
       "      <td>-0.428220</td>\n",
       "    </tr>\n",
       "    <tr>\n",
       "      <th>1</th>\n",
       "      <td>-1.609665</td>\n",
       "      <td>-0.486883</td>\n",
       "    </tr>\n",
       "    <tr>\n",
       "      <th>2</th>\n",
       "      <td>-1.539679</td>\n",
       "      <td>-0.444219</td>\n",
       "    </tr>\n",
       "    <tr>\n",
       "      <th>3</th>\n",
       "      <td>-1.469694</td>\n",
       "      <td>-0.414887</td>\n",
       "    </tr>\n",
       "    <tr>\n",
       "      <th>4</th>\n",
       "      <td>-1.399708</td>\n",
       "      <td>-0.406888</td>\n",
       "    </tr>\n",
       "  </tbody>\n",
       "</table>\n",
       "</div>"
      ],
      "text/plain": [
       "          x         y\n",
       "0 -1.679650 -0.428220\n",
       "1 -1.609665 -0.486883\n",
       "2 -1.539679 -0.444219\n",
       "3 -1.469694 -0.414887\n",
       "4 -1.399708 -0.406888"
      ]
     },
     "execution_count": 76,
     "metadata": {},
     "output_type": "execute_result"
    }
   ],
   "source": [
    "for c in df_data.columns:\n",
    "    df_data[c] = (df_data[c] - df_data[c].mean()) / df_data[c].std()\n",
    "    \n",
    "df_data.head()"
   ]
  },
  {
   "cell_type": "code",
   "execution_count": 77,
   "metadata": {},
   "outputs": [
    {
     "data": {
      "text/plain": [
       "[<matplotlib.lines.Line2D at 0x7f0ff11ff0d0>]"
      ]
     },
     "execution_count": 77,
     "metadata": {},
     "output_type": "execute_result"
    },
    {
     "data": {
      "image/png": "[encoded data removed]",
      "text/plain": [
       "<matplotlib.figure.Figure at 0x7f0ff3bc3b90>"
      ]
     },
     "metadata": {},
     "output_type": "display_data"
    }
   ],
   "source": [
    "X = df_data.x\n",
    "y = df_data.y\n",
    "\n",
    "plt.plot(X, y)"
   ]
  },
  {
   "cell_type": "markdown",
   "metadata": {},
   "source": [
    "## Обучение моделей (2 балла)"
   ]
  },
  {
   "cell_type": "markdown",
   "metadata": {},
   "source": [
    "Рассмотрите 3 ядра: \n",
    "* Линейное\n",
    "* Полиномиальное (degree = 3, gamma = 6, coef0 = 1)\n",
    "* RBF (gamma = 6, coef0 = 1)\n",
    "\n",
    "Во всех случаях установить ширину трубки `epsilon=0.01`\n",
    "\n",
    "Для каждого из ядер:\n",
    "1. Пусть `C = np.logspace(-2, 2, 10)`. Постройте графики зависимости ошибки от параметра $C$ (ось графика со значениями параметра $C$ должна быть в логарифмической шкале). Ошибка измеряется как средняя абсолютная ошибка. \n",
    "2. Для наулучшего параметра $С$ каждого из ядер постройте график с данными и предстазанием по svm\n",
    "\n",
    "В каких случаях возникает эффекты недообучения, переобучения?"
   ]
  },
  {
   "cell_type": "code",
   "execution_count": 78,
   "metadata": {},
   "outputs": [],
   "source": [
    "from sklearn.metrics import mean_absolute_error"
   ]
  },
  {
   "cell_type": "code",
   "execution_count": 79,
   "metadata": {},
   "outputs": [],
   "source": [
    "## Your Code Here\n",
    "lin_err = []\n",
    "poly_err = []\n",
    "rbf_err = []\n",
    "\n",
    "def predicted_vec(model, X, y):\n",
    "    x_vals = X.values.reshape(-1, 1)\n",
    "    \n",
    "    model.fit(x_vals, y.values)\n",
    "    \n",
    "    return model.predict(x_vals)\n",
    "\n",
    "C = np.logspace(-2, 2, 10)\n",
    "\n",
    "eps = 0.01\n",
    "\n",
    "for c in C:\n",
    "    # Линейное ядро\n",
    "    model = SVR(C=c, kernel='linear', epsilon=eps)\n",
    "    \n",
    "    err = mean_absolute_error(y, predicted_vec(model, X, y))\n",
    "    \n",
    "    lin_err.append(err)\n",
    "    \n",
    "    # Полиномиальное ядро\n",
    "    model = SVR(C=c, kernel='poly', degree=3, gamma=6, coef0=1, epsilon=eps)\n",
    "    \n",
    "    poly_err.append(mean_absolute_error(y, predicted_vec(model, X, y)))\n",
    "    \n",
    "    # RBF ядро\n",
    "    model = SVR(C=c, kernel='rbf', gamma=6, coef0=1, epsilon=eps)\n",
    "    \n",
    "    rbf_err.append(mean_absolute_error(y, predicted_vec(model, X, y)))"
   ]
  },
  {
   "cell_type": "code",
   "execution_count": 80,
   "metadata": {},
   "outputs": [
    {
     "data": {
      "text/plain": [
       "<matplotlib.legend.Legend at 0x7f0ff11c2e10>"
      ]
     },
     "execution_count": 80,
     "metadata": {},
     "output_type": "execute_result"
    },
    {
     "data": {
      "image/png": "[encoded data removed]",
      "text/plain": [
       "<matplotlib.figure.Figure at 0x7f0ff1da0690>"
      ]
     },
     "metadata": {},
     "output_type": "display_data"
    }
   ],
   "source": [
    "plt.loglog(C, lin_err, c='red')\n",
    "plt.loglog(C, poly_err, c='blue')\n",
    "plt.loglog(C, rbf_err, c='black')\n",
    "\n",
    "plt.legend(['lin','poly','RBF'])"
   ]
  },
  {
   "cell_type": "code",
   "execution_count": 81,
   "metadata": {},
   "outputs": [],
   "source": [
    "x_vals = X.values.reshape(-1, 1)\n",
    "y_vals = y.values\n",
    "\n",
    "best_lin_err, ind_lin = min((val, ind) for (ind, val) in enumerate(lin_err))\n",
    "best_poly_err, ind_poly = min((val, ind) for (ind, val) in enumerate(poly_err))\n",
    "best_rbf_err, ind_rbf = min((val, ind) for (ind, val) in enumerate(rbf_err))\n",
    "\n",
    "best_C_lin = C[ind_lin]\n",
    "model = SVR(C=best_C_lin, kernel='linear', epsilon=eps)\n",
    "model.fit(x_vals, y_vals)\n",
    "y_lin_predicted = model.predict(x_vals)\n",
    "\n",
    "best_C_poly = C[ind_poly]\n",
    "model = SVR(C=best_C_poly, kernel='poly', gamma=6, coef0=1, degree=3, epsilon=eps)\n",
    "model.fit(x_vals, y_vals)\n",
    "y_poly_predicted = model.predict(x_vals)\n",
    "\n",
    "best_C_rbf = C[ind_rbf]\n",
    "model = SVR(C=best_C_rbf, kernel='rbf', gamma=6, coef0=1, epsilon=eps)\n",
    "model.fit(x_vals, y_vals)\n",
    "y_rbf_predicted = model.predict(x_vals)"
   ]
  },
  {
   "cell_type": "code",
   "execution_count": 82,
   "metadata": {},
   "outputs": [
    {
     "data": {
      "text/plain": [
       "<matplotlib.legend.Legend at 0x7f0ff0fb1f10>"
      ]
     },
     "execution_count": 82,
     "metadata": {},
     "output_type": "execute_result"
    },
    {
     "data": {
      "image/png": "[encoded data removed]",
      "text/plain": [
       "<matplotlib.figure.Figure at 0x7f0ff1e1b0d0>"
      ]
     },
     "metadata": {},
     "output_type": "display_data"
    }
   ],
   "source": [
    "plt.plot(X, y, c='blue')\n",
    "plt.plot(X, y_lin_predicted, c='red')\n",
    "plt.plot(X, y_poly_predicted, c='green')\n",
    "plt.plot(X, y_rbf_predicted, c='black')\n",
    "\n",
    "plt.legend(['true values', 'lin','poly','RBF'])"
   ]
  },
  {
   "cell_type": "markdown",
   "metadata": {},
   "source": [
    "# Определение языка слова (7 баллов)"
   ]
  },
  {
   "cell_type": "markdown",
   "metadata": {},
   "source": [
    "В данном задании вам необходимо определить, на каком языке написано слово.\n",
    "\n",
    "Вам будет дано два текста - первые предложения произведения \"Война и Мир\" на английком и испанском, разбитые на слова. У слов нет общепринятого числового представления, поэтому мы предлагаем вам реализовать собственноге ядро для SVM, основанное на редакторском расстоянии или [расстоянии Левинштейна](https://ru.wikipedia.org/wiki/%D0%A0%D0%B0%D1%81%D1%81%D1%82%D0%BE%D1%8F%D0%BD%D0%B8%D0%B5_%D0%9B%D0%B5%D0%B2%D0%B5%D0%BD%D1%88%D1%82%D0%B5%D0%B9%D0%BD%D0%B0). \n",
    "\n",
    "Имплементировать расстояние Леванштейна не нужно - можно взять любую доступную реализацию, например [здесь](https://github.com/toastdriven/pylev) или [здесь](https://github.com/ztane/python-Levenshtein)."
   ]
  },
  {
   "cell_type": "markdown",
   "metadata": {},
   "source": [
    "## Загрузка (1 балл)\n",
    "\n",
    "Загрузите данные из файлов *war_and_peace_es.txt* и *war_and_peace_en.txt*.<br/> \n",
    "В результате вы должны получить pandas.DataFrame со столбцами *index* | *word* | *label*, где *index* - это индекс pandas, *word* - это слово и *label* - это метка класса (0 или 1)"
   ]
  },
  {
   "cell_type": "code",
   "execution_count": 83,
   "metadata": {},
   "outputs": [
    {
     "data": {
      "text/html": [
       "<div>\n",
       "<style scoped>\n",
       "    .dataframe tbody tr th:only-of-type {\n",
       "        vertical-align: middle;\n",
       "    }\n",
       "\n",
       "    .dataframe tbody tr th {\n",
       "        vertical-align: top;\n",
       "    }\n",
       "\n",
       "    .dataframe thead th {\n",
       "        text-align: right;\n",
       "    }\n",
       "</style>\n",
       "<table border=\"1\" class=\"dataframe\">\n",
       "  <thead>\n",
       "    <tr style=\"text-align: right;\">\n",
       "      <th></th>\n",
       "      <th>word</th>\n",
       "      <th>label</th>\n",
       "    </tr>\n",
       "  </thead>\n",
       "  <tbody>\n",
       "    <tr>\n",
       "      <th>11398</th>\n",
       "      <td>leave</td>\n",
       "      <td>1</td>\n",
       "    </tr>\n",
       "    <tr>\n",
       "      <th>11399</th>\n",
       "      <td>her</td>\n",
       "      <td>1</td>\n",
       "    </tr>\n",
       "    <tr>\n",
       "      <th>11400</th>\n",
       "      <td>task</td>\n",
       "      <td>1</td>\n",
       "    </tr>\n",
       "    <tr>\n",
       "      <th>11401</th>\n",
       "      <td>was</td>\n",
       "      <td>1</td>\n",
       "    </tr>\n",
       "    <tr>\n",
       "      <th>11402</th>\n",
       "      <td>accomplished</td>\n",
       "      <td>1</td>\n",
       "    </tr>\n",
       "  </tbody>\n",
       "</table>\n",
       "</div>"
      ],
      "text/plain": [
       "               word  label\n",
       "11398         leave      1\n",
       "11399           her      1\n",
       "11400          task      1\n",
       "11401           was      1\n",
       "11402  accomplished      1"
      ]
     },
     "execution_count": 83,
     "metadata": {},
     "output_type": "execute_result"
    }
   ],
   "source": [
    "## Your Code Here\n",
    "es_data = pd.read_csv('war_and_peace_es.txt', sep=' ', header=-1, names=['word', 'label'])\n",
    "es_data.label = 0\n",
    "\n",
    "en_data = pd.read_csv('war_and_peace_en.txt', sep=' ', header=-1, names=['word', 'label'])\n",
    "en_data.label = 1\n",
    "\n",
    "df = es_data\n",
    "df = df.append(en_data, ignore_index=True)\n",
    "df.tail()"
   ]
  },
  {
   "cell_type": "code",
   "execution_count": 84,
   "metadata": {},
   "outputs": [
    {
     "data": {
      "text/html": [
       "<div>\n",
       "<style scoped>\n",
       "    .dataframe tbody tr th:only-of-type {\n",
       "        vertical-align: middle;\n",
       "    }\n",
       "\n",
       "    .dataframe tbody tr th {\n",
       "        vertical-align: top;\n",
       "    }\n",
       "\n",
       "    .dataframe thead th {\n",
       "        text-align: right;\n",
       "    }\n",
       "</style>\n",
       "<table border=\"1\" class=\"dataframe\">\n",
       "  <thead>\n",
       "    <tr style=\"text-align: right;\">\n",
       "      <th></th>\n",
       "      <th>word</th>\n",
       "      <th>label</th>\n",
       "    </tr>\n",
       "  </thead>\n",
       "  <tbody>\n",
       "    <tr>\n",
       "      <th>0</th>\n",
       "      <td>guerra</td>\n",
       "      <td>0</td>\n",
       "    </tr>\n",
       "    <tr>\n",
       "      <th>1</th>\n",
       "      <td>pace</td>\n",
       "      <td>0</td>\n",
       "    </tr>\n",
       "    <tr>\n",
       "      <th>2</th>\n",
       "      <td>lev</td>\n",
       "      <td>0</td>\n",
       "    </tr>\n",
       "    <tr>\n",
       "      <th>3</th>\n",
       "      <td>nicoevic</td>\n",
       "      <td>0</td>\n",
       "    </tr>\n",
       "    <tr>\n",
       "      <th>4</th>\n",
       "      <td>tolstj</td>\n",
       "      <td>0</td>\n",
       "    </tr>\n",
       "  </tbody>\n",
       "</table>\n",
       "</div>"
      ],
      "text/plain": [
       "       word  label\n",
       "0    guerra      0\n",
       "1      pace      0\n",
       "2       lev      0\n",
       "3  nicoevic      0\n",
       "4    tolstj      0"
      ]
     },
     "execution_count": 84,
     "metadata": {},
     "output_type": "execute_result"
    }
   ],
   "source": [
    "# like this\n",
    "\n",
    "df.head()"
   ]
  },
  {
   "cell_type": "markdown",
   "metadata": {},
   "source": [
    "## Подготовка данных (2 балла)\n",
    "\n",
    "Особенностью пользовательского ядра в sklean.SVC является то, что на вход оно должно принимать именно вектора чисел.<br/>\n",
    "В нашем случае это будут индексы соответствующих слов из корпуса. То есть вместо вектора ['treat', 'celebrit', 'prince', ...] на вход в ядро подается вектор из индексов [9209, 11145, 7735, ...] с помощью которых вы будете находить сами слова.\n",
    "\n",
    "Прежде чем мы начнем строить ядро, надо подготовить данные. Для этого:\n",
    "1. Задайте переменную RND_SEED, которая будет использоваться в любых генераторах случайных чисел в вашем коде (обычно параметр \"random_seed\")\n",
    "2. Случайным образом перемешайте и заново проиндексируйте таблицу, полученную выше (используйте методы df.sample() и df.reset_index())\n",
    "3. Ядро может вычисляться достаточно долго, поэтому можете урезать таблицу, но оставить в ней не менее 1000 слов.\n",
    "4. Разбейте данные на обучающую и контрольную выборку в пропорции 60/40\n",
    "\n",
    "В результате вы должны получить вектор-столбец X_train, X_test с **индексами** слов и векторы y_train, y_test с метками классов."
   ]
  },
  {
   "cell_type": "code",
   "execution_count": 85,
   "metadata": {},
   "outputs": [],
   "source": [
    "from sklearn.cross_validation import train_test_split"
   ]
  },
  {
   "cell_type": "code",
   "execution_count": 86,
   "metadata": {},
   "outputs": [
    {
     "data": {
      "text/html": [
       "<div>\n",
       "<style scoped>\n",
       "    .dataframe tbody tr th:only-of-type {\n",
       "        vertical-align: middle;\n",
       "    }\n",
       "\n",
       "    .dataframe tbody tr th {\n",
       "        vertical-align: top;\n",
       "    }\n",
       "\n",
       "    .dataframe thead th {\n",
       "        text-align: right;\n",
       "    }\n",
       "</style>\n",
       "<table border=\"1\" class=\"dataframe\">\n",
       "  <thead>\n",
       "    <tr style=\"text-align: right;\">\n",
       "      <th></th>\n",
       "      <th>word</th>\n",
       "      <th>label</th>\n",
       "    </tr>\n",
       "  </thead>\n",
       "  <tbody>\n",
       "    <tr>\n",
       "      <th>1995</th>\n",
       "      <td>volevamo</td>\n",
       "      <td>0</td>\n",
       "    </tr>\n",
       "    <tr>\n",
       "      <th>1996</th>\n",
       "      <td>alz</td>\n",
       "      <td>0</td>\n",
       "    </tr>\n",
       "    <tr>\n",
       "      <th>1997</th>\n",
       "      <td>ininterrotto</td>\n",
       "      <td>0</td>\n",
       "    </tr>\n",
       "    <tr>\n",
       "      <th>1998</th>\n",
       "      <td>scopo</td>\n",
       "      <td>0</td>\n",
       "    </tr>\n",
       "    <tr>\n",
       "      <th>1999</th>\n",
       "      <td>was</td>\n",
       "      <td>1</td>\n",
       "    </tr>\n",
       "  </tbody>\n",
       "</table>\n",
       "</div>"
      ],
      "text/plain": [
       "              word  label\n",
       "1995      volevamo      0\n",
       "1996           alz      0\n",
       "1997  ininterrotto      0\n",
       "1998         scopo      0\n",
       "1999           was      1"
      ]
     },
     "execution_count": 86,
     "metadata": {},
     "output_type": "execute_result"
    }
   ],
   "source": [
    "RND_SEED = 123\n",
    "\n",
    "df_random = df.sample(random_state=RND_SEED, n=2000)\n",
    "df_random = df_random.reset_index(drop=True)\n",
    "df_random.tail()"
   ]
  },
  {
   "cell_type": "code",
   "execution_count": 87,
   "metadata": {},
   "outputs": [],
   "source": [
    "train, test = train_test_split(df_random, test_size=0.4, random_state=RND_SEED)"
   ]
  },
  {
   "cell_type": "code",
   "execution_count": 88,
   "metadata": {},
   "outputs": [
    {
     "name": "stdout",
     "output_type": "stream",
     "text": [
      "(1200, 2)\n",
      "(800, 2)\n"
     ]
    }
   ],
   "source": [
    "print train.shape\n",
    "print test.shape"
   ]
  },
  {
   "cell_type": "code",
   "execution_count": 89,
   "metadata": {},
   "outputs": [],
   "source": [
    "X_train = train.word\n",
    "y_train = train.label\n",
    "\n",
    "X_test = test.word\n",
    "y_test = test.label"
   ]
  },
  {
   "cell_type": "markdown",
   "metadata": {},
   "source": [
    "## Расчет ядра (3 балла)\n",
    "\n",
    "Некоторые указания по составлению пользовательского ядра можно найти [здесь](http://stackoverflow.com/questions/26962159/how-to-use-a-custom-svm-kernel).\n",
    "\n",
    "Если в двух словах:<br/>\n",
    "Функция, реазлизующая расчет ядра должна принимать две матрицы $U$ и $V$ с признаковым описанием объектов (во време обучения они обе относятся к обучающей выборке, а во время применения - одна матрица относится к обучающей выборке, а другая к контрольной).\n",
    "\n",
    "В результате, функция должна возвращать матрицу ядра $G_{ij} = K(U_i, V_j)$.\n",
    "\n",
    "Таким образом, в этом задании вам надо:\n",
    "1. Написать функцию *string_kernel(U, V)*, расчитывающее матрицу ядра $G_{ij}$\n",
    "2. Визуализировать матрицу только для обучающей выборки (функция plt.imshow()).\n",
    "\n",
    "**ВАЖНО**<br/>\n",
    "На лекции мы рассмотрели, что ядро должно обладать определенными свойствами, поэтому не получится рассчитать $G_{ij}$ как расстояние Левинштейна между словами $\\text{word}_i$ и $\\text{word}_j$.<br/>\n",
    "Вместо этого используйте какое-нибудь готовое ядро, зависящее от расстояние между объектами."
   ]
  },
  {
   "cell_type": "code",
   "execution_count": 90,
   "metadata": {},
   "outputs": [],
   "source": [
    "import pylev\n",
    "\n",
    "def K_RBF (U_i, V_i):\n",
    "    lev_dist = pylev.levenschtein(U_i, V_i)\n",
    "    \n",
    "    return np.exp(-0.5 * lev_dist ** 2)\n",
    "\n",
    "def string_kernel(U, V):\n",
    "    #Your Code Here\n",
    "    kernel_matrix = np.zeros((U.shape[0], V.shape[0]))\n",
    "    \n",
    "    for i, u in enumerate(U):\n",
    "        for j, v in enumerate(V):\n",
    "            kernel_matrix[i, j] = K_RBF(u, v)\n",
    "            \n",
    "    return kernel_matrix\n",
    "\n",
    "G = string_kernel(X_train, X_train)"
   ]
  },
  {
   "cell_type": "code",
   "execution_count": 91,
   "metadata": {},
   "outputs": [
    {
     "data": {
      "text/plain": [
       "<matplotlib.image.AxesImage at 0x7f0ff03fda90>"
      ]
     },
     "execution_count": 91,
     "metadata": {},
     "output_type": "execute_result"
    },
    {
     "data": {
      "image/png": "[encoded data removed]",
      "text/plain": [
       "<matplotlib.figure.Figure at 0x7f0ff11d5f10>"
      ]
     },
     "metadata": {},
     "output_type": "display_data"
    }
   ],
   "source": [
    "plt.imshow(G)"
   ]
  },
  {
   "cell_type": "markdown",
   "metadata": {},
   "source": [
    "## Оценка качества (1 балл)\n",
    "\n",
    "Обучите метод опорных векторов с различными значениями параметра штрафа $C$.<br/>\n",
    "Для каждого значения выведите accuracy на обучащюей и контрольной выборке.\n",
    "\n",
    "Постарайтесь достичь качества в 70% на тестовой выборке"
   ]
  },
  {
   "cell_type": "code",
   "execution_count": 92,
   "metadata": {},
   "outputs": [],
   "source": [
    "from sklearn.metrics import accuracy_score"
   ]
  },
  {
   "cell_type": "code",
   "execution_count": 93,
   "metadata": {},
   "outputs": [
    {
     "data": {
      "text/plain": [
       "SVC(C=1, cache_size=200, class_weight=None, coef0=0.0,\n",
       "  decision_function_shape='ovr', degree=3, gamma='auto',\n",
       "  kernel='precomputed', max_iter=-1, probability=False, random_state=123,\n",
       "  shrinking=True, tol=0.001, verbose=False)"
      ]
     },
     "execution_count": 93,
     "metadata": {},
     "output_type": "execute_result"
    }
   ],
   "source": [
    "# Your Code Here\n",
    "model= SVC(C=1, kernel='precomputed', random_state=RND_SEED)\n",
    "model.fit(G, y_train)"
   ]
  },
  {
   "cell_type": "code",
   "execution_count": 94,
   "metadata": {},
   "outputs": [
    {
     "data": {
      "text/plain": [
       "0.82874999999999999"
      ]
     },
     "execution_count": 94,
     "metadata": {},
     "output_type": "execute_result"
    }
   ],
   "source": [
    "y_pred = model.predict(string_kernel(X_test, X_train))\n",
    "accuracy_score (y_test, y_pred)"
   ]
  }
 ],
 "metadata": {
  "anaconda-cloud": {},
  "kernelspec": {
   "display_name": "Python 2",
   "language": "python",
   "name": "python2"
  },
  "language_info": {
   "codemirror_mode": {
    "name": "ipython",
    "version": 2
   },
   "file_extension": ".py",
   "mimetype": "text/x-python",
   "name": "python",
   "nbconvert_exporter": "python",
   "pygments_lexer": "ipython2",
   "version": "2.7.13"
  },
  "nav_menu": {},
  "toc": {
   "navigate_menu": true,
   "number_sections": false,
   "sideBar": true,
   "threshold": 6,
   "toc_cell": false,
   "toc_section_display": "block",
   "toc_window_display": true
  }
 },
 "nbformat": 4,
 "nbformat_minor": 1
}
